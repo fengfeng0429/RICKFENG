{
 "cells": [
  {
   "cell_type": "markdown",
   "metadata": {},
   "source": [
    "11-06 11p.m.<br>\n",
    "我剛開始寫的時候<br>\n",
    "有東西跑出來但不是我要結果...<br>"
   ]
  },
  {
   "cell_type": "code",
   "execution_count": 2,
   "metadata": {},
   "outputs": [],
   "source": [
    "class Solution(object):\n",
    "    def heap_sort(self, nums):\n",
    "        self.nums=nums\n",
    "        return nums\n",
    "    def heap(self, nums):\n",
    "        n = len(nums)\n",
    "        largest=i\n",
    "        left=2*i\n",
    "        right=2*i+1\n",
    "        if left<n and nums[i]<nums[left]:\n",
    "            largest=left\n",
    "        if right<n and nums[largest]<nums[right]:\n",
    "            largest=right\n",
    "        \n",
    "    def heapSort(nums): \n",
    "        n = len(nums) \n",
    "  \n",
    "     \n",
    "        for i in range(n, -1, -1): \n",
    "            heapify(nums, n, i) \n",
    "  \n",
    "     \n",
    "        for i in range(n-1, 0, -1): \n",
    "            nums[i], nums[0] = nums[0], nums[i]\n",
    "            heapify(nums, i, 0) \n",
    "      \n",
    "        \n",
    "    \n",
    "        \n",
    "            \n"
   ]
  },
  {
   "cell_type": "code",
   "execution_count": 3,
   "metadata": {},
   "outputs": [
    {
     "data": {
      "text/plain": [
       "[7, 5, 98, 55, 2, 3]"
      ]
     },
     "execution_count": 3,
     "metadata": {},
     "output_type": "execute_result"
    }
   ],
   "source": [
    "output=Solution().heap_sort([7,5,98,55,2,3])\n",
    "output"
   ]
  },
  {
   "cell_type": "markdown",
   "metadata": {},
   "source": [
    "這是稍後的結果:<br>"
   ]
  },
  {
   "cell_type": "code",
   "execution_count": 12,
   "metadata": {},
   "outputs": [],
   "source": [
    "class Solution(object):\n",
    "    def heap_sort(self, nums):\n",
    "        self.nums=nums\n",
    "        arr=Solution().heapSort(nums)\n",
    "        return nums\n",
    "    def heap(self,nums):\n",
    "        largest=i\n",
    "        left=2*i\n",
    "        right2*i+1\n",
    "        if left<n and nums[i]<nums[left]:\n",
    "            largest=left\n",
    "        if right<n and nums[largest]<nums[right]:\n",
    "            largest=right\n",
    "        \n",
    "    def heapSort(self,nums): \n",
    "        n = len(nums) \n",
    "  \n",
    "     \n",
    "        for i in range(n, -1, -1): \n",
    "            heapify(nums, n, i) \n",
    "  \n",
    "     \n",
    "        for i in range(n-1, 0, -1): \n",
    "            nums[i], nums[0] = nums[0], nums[i]\n",
    "            heapify(nums, i, 0) \n",
    "    def heapify(self,nums, n, i): #logic define\n",
    "        largest = i   \n",
    "        l = 2 * i + 1     #left=2*i+1\n",
    "        r = 2 * i + 2     #right=2*i+2\n",
    "  \n",
    "    \n",
    "        if l < n and nums[i] < nums[l]: \n",
    "            largest = l \n",
    "            \n",
    "    \n",
    "        if r < n and nums[largest] < nums[r]: \n",
    "            largest = r \n",
    "  \n",
    "    \n",
    "        if largest != i: \n",
    "            nums[largest],nums[i] = nums[i],nums[largest]  \n",
    "  \n",
    "        \n",
    "            heapify(nums, n, largest)"
   ]
  },
  {
   "cell_type": "code",
   "execution_count": 13,
   "metadata": {},
   "outputs": [
    {
     "ename": "NameError",
     "evalue": "name 'heapify' is not defined",
     "output_type": "error",
     "traceback": [
      "\u001b[1;31m---------------------------------------------------------------------------\u001b[0m",
      "\u001b[1;31mNameError\u001b[0m                                 Traceback (most recent call last)",
      "\u001b[1;32m<ipython-input-13-f46306ffdfa7>\u001b[0m in \u001b[0;36m<module>\u001b[1;34m\u001b[0m\n\u001b[1;32m----> 1\u001b[1;33m \u001b[0moutput\u001b[0m\u001b[1;33m=\u001b[0m\u001b[0mSolution\u001b[0m\u001b[1;33m(\u001b[0m\u001b[1;33m)\u001b[0m\u001b[1;33m.\u001b[0m\u001b[0mheap_sort\u001b[0m\u001b[1;33m(\u001b[0m\u001b[1;33m[\u001b[0m\u001b[1;36m7\u001b[0m\u001b[1;33m,\u001b[0m\u001b[1;36m5\u001b[0m\u001b[1;33m,\u001b[0m\u001b[1;36m98\u001b[0m\u001b[1;33m,\u001b[0m\u001b[1;36m55\u001b[0m\u001b[1;33m,\u001b[0m\u001b[1;36m2\u001b[0m\u001b[1;33m,\u001b[0m\u001b[1;36m3\u001b[0m\u001b[1;33m]\u001b[0m\u001b[1;33m)\u001b[0m\u001b[1;33m\u001b[0m\u001b[1;33m\u001b[0m\u001b[0m\n\u001b[0m\u001b[0;32m      2\u001b[0m \u001b[0moutput\u001b[0m\u001b[1;33m\u001b[0m\u001b[1;33m\u001b[0m\u001b[0m\n",
      "\u001b[1;32m<ipython-input-12-a7a34d9420a4>\u001b[0m in \u001b[0;36mheap_sort\u001b[1;34m(self, nums)\u001b[0m\n\u001b[0;32m      2\u001b[0m     \u001b[1;32mdef\u001b[0m \u001b[0mheap_sort\u001b[0m\u001b[1;33m(\u001b[0m\u001b[0mself\u001b[0m\u001b[1;33m,\u001b[0m \u001b[0mnums\u001b[0m\u001b[1;33m)\u001b[0m\u001b[1;33m:\u001b[0m\u001b[1;33m\u001b[0m\u001b[1;33m\u001b[0m\u001b[0m\n\u001b[0;32m      3\u001b[0m         \u001b[0mself\u001b[0m\u001b[1;33m.\u001b[0m\u001b[0mnums\u001b[0m\u001b[1;33m=\u001b[0m\u001b[0mnums\u001b[0m\u001b[1;33m\u001b[0m\u001b[1;33m\u001b[0m\u001b[0m\n\u001b[1;32m----> 4\u001b[1;33m         \u001b[0marr\u001b[0m\u001b[1;33m=\u001b[0m\u001b[0mSolution\u001b[0m\u001b[1;33m(\u001b[0m\u001b[1;33m)\u001b[0m\u001b[1;33m.\u001b[0m\u001b[0mheapSort\u001b[0m\u001b[1;33m(\u001b[0m\u001b[0mnums\u001b[0m\u001b[1;33m)\u001b[0m\u001b[1;33m\u001b[0m\u001b[1;33m\u001b[0m\u001b[0m\n\u001b[0m\u001b[0;32m      5\u001b[0m         \u001b[1;32mreturn\u001b[0m \u001b[0mnums\u001b[0m\u001b[1;33m\u001b[0m\u001b[1;33m\u001b[0m\u001b[0m\n\u001b[0;32m      6\u001b[0m     \u001b[1;32mdef\u001b[0m \u001b[0mheap\u001b[0m\u001b[1;33m(\u001b[0m\u001b[0mself\u001b[0m\u001b[1;33m,\u001b[0m\u001b[0mnums\u001b[0m\u001b[1;33m,\u001b[0m \u001b[0mn\u001b[0m\u001b[1;33m,\u001b[0m \u001b[0mi\u001b[0m\u001b[1;33m)\u001b[0m\u001b[1;33m:\u001b[0m\u001b[1;33m\u001b[0m\u001b[1;33m\u001b[0m\u001b[0m\n",
      "\u001b[1;32m<ipython-input-12-a7a34d9420a4>\u001b[0m in \u001b[0;36mheapSort\u001b[1;34m(self, nums)\u001b[0m\n\u001b[0;32m     18\u001b[0m \u001b[1;33m\u001b[0m\u001b[0m\n\u001b[0;32m     19\u001b[0m         \u001b[1;32mfor\u001b[0m \u001b[0mi\u001b[0m \u001b[1;32min\u001b[0m \u001b[0mrange\u001b[0m\u001b[1;33m(\u001b[0m\u001b[0mn\u001b[0m\u001b[1;33m,\u001b[0m \u001b[1;33m-\u001b[0m\u001b[1;36m1\u001b[0m\u001b[1;33m,\u001b[0m \u001b[1;33m-\u001b[0m\u001b[1;36m1\u001b[0m\u001b[1;33m)\u001b[0m\u001b[1;33m:\u001b[0m\u001b[1;33m\u001b[0m\u001b[1;33m\u001b[0m\u001b[0m\n\u001b[1;32m---> 20\u001b[1;33m             \u001b[0mheapify\u001b[0m\u001b[1;33m(\u001b[0m\u001b[0mnums\u001b[0m\u001b[1;33m,\u001b[0m \u001b[0mn\u001b[0m\u001b[1;33m,\u001b[0m \u001b[0mi\u001b[0m\u001b[1;33m)\u001b[0m\u001b[1;33m\u001b[0m\u001b[1;33m\u001b[0m\u001b[0m\n\u001b[0m\u001b[0;32m     21\u001b[0m \u001b[1;33m\u001b[0m\u001b[0m\n\u001b[0;32m     22\u001b[0m \u001b[1;33m\u001b[0m\u001b[0m\n",
      "\u001b[1;31mNameError\u001b[0m: name 'heapify' is not defined"
     ]
    }
   ],
   "source": [
    "output=Solution().heap_sort([7,5,98,55,2,3])\n",
    "output\n"
   ]
  },
  {
   "cell_type": "markdown",
   "metadata": {},
   "source": [
    "在這裡搞了很久...<br>\n",
    "對程式碼真的很有障礙<br>\n"
   ]
  },
  {
   "cell_type": "code",
   "execution_count": 27,
   "metadata": {},
   "outputs": [],
   "source": [
    "class Solution(object):\n",
    "    def heap_sort(self, nums):\n",
    "        self.nums=nums\n",
    "        arr=Solution().swap(nums)\n",
    "        return arr\n",
    "    def heap(self,nums): \n",
    "        n = len(nums) \n",
    "        \n",
    "    \n",
    "        for i in range((n//2)-1,-1,-1): \n",
    "            heapify(nums, n, i) \n",
    "            \n",
    "    def swap(self,nums):\n",
    "        arr2=Solution().heap(nums)\n",
    "        n=len(arr2)\n",
    "        for i in range(n-1, 0, -1): \n",
    "            nums[0], nums[i] = nums[i], nums[0]   \n",
    "            heapify(arr2, i, 0)\n",
    "            return nums\n",
    "    def heapify(self,nums, n, i): \n",
    "        largest = i   \n",
    "        l = 2 * i + 1     \n",
    "        r = 2 * i + 2     \n",
    "  \n",
    "    \n",
    "        if l < n and nums[i] < nums[l]: \n",
    "            largest = l \n",
    "            \n",
    "    \n",
    "        if r < n and nums[largest] < nums[r]: \n",
    "            largest = r \n",
    "  \n",
    "    \n",
    "        if largest != i: \n",
    "            nums[largest],nums[i] = nums[i],nums[largest]  \n",
    "  \n",
    "        \n",
    "            heapify(nums, n, largest)\n",
    " "
   ]
  },
  {
   "cell_type": "code",
   "execution_count": null,
   "metadata": {},
   "outputs": [],
   "source": [
    "output=Solution().heap_sort([7,5,98,55,2,3])\n",
    "output"
   ]
  },
  {
   "cell_type": "markdown",
   "metadata": {},
   "source": [
    "結果是:[25, 7, 8, 3, 5, 28]<br>\n",
    "之後我把arr=Solution().swap(nums)<br>\n",
    "        return arr 刪掉<br>\n",
    "把return nums 直接放到要進行swap 那裏<br>\n",
    "然後<br>\n",
    "就成功了...<br>\n",
    "流程表和參考資料如下:<br>\n",
    "\n"
   ]
  },
  {
   "cell_type": "code",
   "execution_count": 32,
   "metadata": {},
   "outputs": [
    {
     "data": {
      "text/html": [
       "<img src=\"https://github.com/fengfeng0429/RICKFENG-DSA/blob/master/leetcode/week%205/images/IMG_1168.jpg?raw=true\" width=\"1000\" height=\"1000\"/>"
      ],
      "text/plain": [
       "<IPython.core.display.Image object>"
      ]
     },
     "execution_count": 32,
     "metadata": {},
     "output_type": "execute_result"
    }
   ],
   "source": [
    "from IPython.display import Image\n",
    "from IPython.core.display import HTML\n",
    "Image(url= \"https://github.com/fengfeng0429/RICKFENG-DSA/blob/master/leetcode/week%205/images/IMG_1168.jpg?raw=true\",width = 1000,height = 1000)\n",
    "\n"
   ]
  },
  {
   "cell_type": "code",
   "execution_count": 33,
   "metadata": {},
   "outputs": [
    {
     "data": {
      "text/html": [
       "<img src=\"https://github.com/fengfeng0429/RICKFENG-DSA/blob/master/leetcode/week%205/images/IMG_1170.jpg?raw=true\" width=\"1000\" height=\"1000\"/>"
      ],
      "text/plain": [
       "<IPython.core.display.Image object>"
      ]
     },
     "execution_count": 33,
     "metadata": {},
     "output_type": "execute_result"
    }
   ],
   "source": [
    "from IPython.display import Image\n",
    "from IPython.core.display import HTML\n",
    "Image(url= \"https://github.com/fengfeng0429/RICKFENG-DSA/blob/master/leetcode/week%205/images/IMG_1170.jpg?raw=true\",width = 1000,height = 1000)"
   ]
  },
  {
   "cell_type": "markdown",
   "metadata": {},
   "source": [
    "https://github.com/joeyajames/Python/blob/master/MaxHeap.py 網路上神人的code(我覺得太複雜了)<br>\n",
    "https://algorithm.yuanbin.me/zh-tw/basics_data_structure/heap.html heap概念解釋<br>\n",
    "https://www.youtube.com/watch?v=GnKHVXv_rlQ heap影片"
   ]
  }
 ],
 "metadata": {
  "kernelspec": {
   "display_name": "Python 3",
   "language": "python",
   "name": "python3"
  },
  "language_info": {
   "codemirror_mode": {
    "name": "ipython",
    "version": 3
   },
   "file_extension": ".py",
   "mimetype": "text/x-python",
   "name": "python",
   "nbconvert_exporter": "python",
   "pygments_lexer": "ipython3",
   "version": "3.7.4"
  }
 },
 "nbformat": 4,
 "nbformat_minor": 2
}
