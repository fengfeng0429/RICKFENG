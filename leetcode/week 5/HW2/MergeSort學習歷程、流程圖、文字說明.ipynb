{
 "cells": [
  {
   "cell_type": "markdown",
   "metadata": {},
   "source": [
    " 11-07 4p.m.<br>\n",
    " 開始撰寫merge sort 的學習歷程<br>\n",
    " 我自己非本科系也不是很在行 程式碼的部分 所以寫的比較簡單一點<br>\n",
    " 尤其while的部分我弄了很久......<br>\n",
    " 不過經過上網查找的過程 有稍微理解一點<br>\n",
    " merge sort 本身不難懂 畢竟跟quicksort非常像<br>\n",
    " 我覺得難的地方在於程式碼的部分<br>\n",
    " \n",
    " 11-01 12p.m.<br>\n",
    " 看完網路上對於merge sort 講解的影片後<br>\n",
    " 邏輯釐清 剩下程式碼的表達<br>\n",
    " 由於對python還有些生疏<br>\n",
    " 所以就先參考網路上的<br>"
   ]
  },
  {
   "cell_type": "code",
   "execution_count": null,
   "metadata": {},
   "outputs": [],
   "source": [
    "import math\n",
    "import random\n",
    "\n",
    "\n",
    "sampleList = []\n",
    "s = 0\n",
    "while s < 9:\n",
    "     tempRandNum = random.randint(0,100)\n",
    "     sampleList.append(tempRandNum)\n",
    "     s = s + 1\n",
    "\n",
    "\n",
    "print(sampleList)\n",
    "\n",
    "\n",
    "\n",
    "def mergeList(leftList, rightList):\n",
    "\n",
    "    \n",
    "     if len(leftList) == 0: \n",
    "         return rightList \n",
    "     elif len(rightList) == 0: \n",
    "         return leftList \n",
    "\n",
    "     elif leftList[0] < rightList[0]:\n",
    "         return [leftList[0]] + mergeList(leftList[1:], rightList)\n",
    "\n",
    "     else: \n",
    "         return [rightList[0]] + mergeList(leftList, rightList[1:])\n",
    "\n",
    "\n",
    "def chopList(sourceList):\n",
    "    \n",
    "     \n",
    "     if 1 >= len(sourceList):\n",
    "         return sourceList\n",
    " \n",
    "     centerKey = int(round(len(sourceList)/2))\n",
    "     leftList = []\n",
    "     rightList = []\n",
    "  \n",
    "     leftList = sourceList[0:centerKey]\n",
    "     rightList = sourceList[centerKey:]\n",
    "    \n",
    "    leftData = chopList(leftList)\n",
    "     rightData = chopList(rightList)\n",
    "    \n",
    "     return mergeList(leftData, rightData)\n",
    "\n",
    "\n",
    "\n",
    "print(chopList(sampleList))"
   ]
  },
  {
   "cell_type": "markdown",
   "metadata": {},
   "source": [
    "看完後大概有些理解<br>\n",
    "但迴圈的部分依舊難懂...<br>\n",
    "不過我知道split要怎麼寫了<br>\n",
    "\n",
    "11-02 1p.m.<br>\n",
    "昨天試過了網路上的程式碼<br>\n",
    "但不符合作業格式<br>\n",
    "而且還不知道迴圈要怎麼寫<br>\n",
    "\n",
    "11-05 2p.m.<br>\n",
    "看完while的邏輯介紹<br>\n",
    "多多少少有理解<br>\n",
    "剛開始的程式碼我忘了存<br>\n",
    "不過我已經知道如何寫成符合作業的格式<br>\n",
    "但卡在不知道怎麼測試<br>\n",
    "\n",
    "\n"
   ]
  },
  {
   "cell_type": "code",
   "execution_count": null,
   "metadata": {},
   "outputs": [],
   "source": [
    "##### merge_sort_04121106.py\n",
    "class Solution(object):\n",
    "    def merge_sort(self, nums):#此函數先選出list的中間再以中間去將list分成left right\n",
    "        self.nums = nums       #再return 回nums\n",
    "        \n",
    "        mid=len(nums)//2 #選出list的中間項 我認為直接對半切是最快的方法 雖然有會不太準的時候\n",
    "        left=nums[:mid]  #但我用奇數列表測試 並無大礙\n",
    "        right=nums[mid:]       \n",
    "        \n",
    "        if len(left)>1:#If the length of the list is less than or equal to one\n",
    "            Solution().merge_sort(left)\n",
    "        if len(right)>1:#If the length of the list is less than or equal to one\n",
    "            Solution().merge_sort(right)\n",
    "            \n",
    "            i=0\n",
    "            j=0\n",
    "            k=0\n",
    "            while i<len(left) and j<len(right):#while 的比較迴圈\n",
    "                if left[i]<=right[j]:#目的讓演算法穩定\n",
    "                    nums[k]=left[i]\n",
    "                    i=i+1\n",
    "                else:\n",
    "                    nums[k]=right[j]\n",
    "                    j=j+1\n",
    "                k=k+1\n",
    "                \n",
    "            while i<len(left):\n",
    "                nums[k]=left[i]\n",
    "                i=i+1\n",
    "                k=k+1\n",
    "                \n",
    "            while j<len(right):\n",
    "                nums[k]=right[j]\n",
    "                j=j+1\n",
    "                k=k+1"
   ]
  },
  {
   "cell_type": "markdown",
   "metadata": {},
   "source": [
    "11-05 6p.m.\n",
    "想到忘記加return.......<br>"
   ]
  },
  {
   "cell_type": "markdown",
   "metadata": {},
   "source": [
    "11-06 11a.m.<br>\n",
    "流程圖+參考資料:<br>"
   ]
  },
  {
   "cell_type": "code",
   "execution_count": 2,
   "metadata": {},
   "outputs": [
    {
     "data": {
      "text/html": [
       "<img src=\"https://github.com/fengfeng0429/RICKFENG-DSA/blob/master/leetcode/week%205/HW2/images/IMG_1167.jpg?raw=true\" width=\"1000\" height=\"1000\"/>"
      ],
      "text/plain": [
       "<IPython.core.display.Image object>"
      ]
     },
     "execution_count": 2,
     "metadata": {},
     "output_type": "execute_result"
    }
   ],
   "source": [
    "from IPython.display import Image\n",
    "from IPython.core.display import HTML\n",
    "Image(url= \"https://github.com/fengfeng0429/RICKFENG-DSA/blob/master/leetcode/week%205/HW2/images/IMG_1167.jpg?raw=true\",width = 1000,height = 1000)"
   ]
  },
  {
   "cell_type": "markdown",
   "metadata": {},
   "source": [
    "https://www.youtube.com/watch?v=Nso25TkBsYI merge sort<br>\n",
    "https://www.youtube.com/watch?v=szaAeLt_49U while<br>\n",
    "https://newaurora.pixnet.net/blog/post/224658923-%E5%90%88%E4%BD%B5%E6%8E%92%E5%BA%8F%E6%B3%95---%E4%BD%BF%E7%94%A8python 參考程式碼"
   ]
  },
  {
   "cell_type": "code",
   "execution_count": null,
   "metadata": {},
   "outputs": [],
   "source": []
  }
 ],
 "metadata": {
  "kernelspec": {
   "display_name": "Python 3",
   "language": "python",
   "name": "python3"
  },
  "language_info": {
   "codemirror_mode": {
    "name": "ipython",
    "version": 3
   },
   "file_extension": ".py",
   "mimetype": "text/x-python",
   "name": "python",
   "nbconvert_exporter": "python",
   "pygments_lexer": "ipython3",
   "version": "3.7.4"
  }
 },
 "nbformat": 4,
 "nbformat_minor": 2
}
