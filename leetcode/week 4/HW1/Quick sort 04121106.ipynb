{
 "cells": [
  {
   "cell_type": "markdown",
   "metadata": {},
   "source": [
    "How quicksort works:<br><br>\n",
    "First, pick a pivot in the list(it can be in the middle or randomly)<br><br>\n",
    "Second, sort the list through pivot(smaller goes left bigger goes right)<br><br>\n",
    "Third, repeat the last two steps till all values in the list are sorted<br><br>\n",
    "Forth, combine all the sorted values with pivots"
   ]
  },
  {
   "cell_type": "markdown",
   "metadata": {},
   "source": [
    "Random:<br>"
   ]
  },
  {
   "cell_type": "code",
   "execution_count": 9,
   "metadata": {},
   "outputs": [
    {
     "name": "stdout",
     "output_type": "stream",
     "text": [
      "171\n",
      "11\n",
      "51\n",
      "411\n",
      "291\n",
      "291\n",
      "11\n",
      "171\n",
      "61\n",
      "641\n",
      "[11, 51, 61, 171, 271, 291, 411, 641]\n"
     ]
    }
   ],
   "source": [
    "import random \n",
    "a = [11, 171, 411, 291, 641, 271, 51, 61]\n",
    "\n",
    "    \n",
    "     \n",
    "    \n",
    "def quicksort(a):\n",
    "    if len(a) <= 1:#let the length of the list that is 0 or 1 simply return to list\n",
    "        return a\n",
    "       \n",
    "    pivot=random.choice(a) #choose random one in the list as pivot\n",
    "    print(pivot)\n",
    "    \n",
    "    #the bellow part I took the partial codes from internet <-To learn it, because I don`t know how to write:\n",
    "    #########################################################################################################\n",
    "    left = []\n",
    "    pivotlist = []\n",
    "    right = []\n",
    "    #set as null\n",
    "    #########################################################################################################\n",
    "    for num in a: #determine amount\n",
    "        if num < pivot:\n",
    "            left.append(num)\n",
    "        elif num == pivot:\n",
    "            pivotlist.append(num)\n",
    "        else:\n",
    "            right.append(num)\n",
    "            \n",
    "    return quicksort(left) + pivotlist + quicksort(right)\n",
    "    \n",
    "quicksort(a)\n",
    "print(quicksort(a))"
   ]
  },
  {
   "cell_type": "markdown",
   "metadata": {},
   "source": []
  },
  {
   "cell_type": "markdown",
   "metadata": {},
   "source": []
  }
 ],
 "metadata": {
  "kernelspec": {
   "display_name": "Python 3",
   "language": "python",
   "name": "python3"
  },
  "language_info": {
   "codemirror_mode": {
    "name": "ipython",
    "version": 3
   },
   "file_extension": ".py",
   "mimetype": "text/x-python",
   "name": "python",
   "nbconvert_exporter": "python",
   "pygments_lexer": "ipython3",
   "version": "3.7.4"
  }
 },
 "nbformat": 4,
 "nbformat_minor": 2
}
