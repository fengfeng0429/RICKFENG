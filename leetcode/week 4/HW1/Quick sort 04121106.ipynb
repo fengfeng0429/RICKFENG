{
 "cells": [
  {
   "cell_type": "markdown",
   "metadata": {},
   "source": [
    "How quicksort works:<br><br>\n",
    "First, pick a pivot in the list(it can be in the middle or randomly)<br><br>\n",
    "Second, sort the list through pivot(smaller goes left bigger goes right)<br><br>\n",
    "Third, repeat the last two steps till all values in the list are sorted<br><br>\n",
    "Forth, combine all the sorted values with pivots"
   ]
  },
  {
   "cell_type": "markdown",
   "metadata": {},
   "source": [
    "Random:<br>"
   ]
  },
  {
   "cell_type": "code",
   "execution_count": 13,
   "metadata": {},
   "outputs": [
    {
     "name": "stdout",
     "output_type": "stream",
     "text": [
      "641\n",
      "291\n",
      "61\n",
      "51\n",
      "171\n",
      "411\n",
      "51\n",
      "271\n",
      "171\n",
      "[11, 51, 61, 171, 271, 291, 411, 641]\n"
     ]
    }
   ],
   "source": [
    "import random \n",
    "a = [11, 171, 411, 291, 641, 271, 51, 61]\n",
    "\n",
    "    \n",
    "     \n",
    "    \n",
    "def quicksort(a):\n",
    "    if len(a) <= 1:#let the length of the list that is 0 or 1 simply return to list\n",
    "        return a\n",
    "       \n",
    "    pivot=random.choice(a) #choose random one in the list as pivot\n",
    "    print(pivot)\n",
    "    \n",
    "    #the bellow part I took the partial codes from internet.\n",
    "    #########################################################################################################\n",
    "    small = []\n",
    "    pivotlist = []\n",
    "    big = []\n",
    "    #set as null\n",
    "    #########################################################################################################\n",
    "    for num in a: #determine amount\n",
    "        if num < pivot:\n",
    "            small.append(num)\n",
    "        elif num == pivot:\n",
    "            pivotlist.append(num)\n",
    "        else:\n",
    "            big.append(num)\n",
    "            \n",
    "    return quicksort(small) + pivotlist + quicksort(big)\n",
    "    \n",
    "quicksort(a)\n",
    "print(quicksort(a))"
   ]
  },
  {
   "cell_type": "code",
   "execution_count": 10,
   "metadata": {},
   "outputs": [],
   "source": [
    "#This was the original one, i stuck for a long time then i search the internet, i found out i didnt set the null value before\n",
    "#i took them to compare\n",
    "#And of couse the pivot values need a list\n",
    "#And i forgot to define some of the values\n",
    "\n",
    "\n",
    "\n",
    "\n",
    "\n",
    "#import random \n",
    "#a = [11, 171, 411, 291, 641, 271, 51, 61]\n",
    "\n",
    "    \n",
    "     \n",
    "    \n",
    "#def quicksort(a):\n",
    "    #if len(a) <= 1:#let the length of the list that is 0 or 1 simply return to list\n",
    "        #return a\n",
    "       \n",
    "    #pivot=random.choice(a) #choose random one in the list as pivot\n",
    "    #print(pivot)\n",
    "    \n",
    "   \n",
    "    #for num in a: #determine amount\n",
    "        #if num < pivot:\n",
    "            #small.append(num)\n",
    "        #elif num == pivot:\n",
    "            #pivot.append(num)\n",
    "        #else:\n",
    "            #big.append(num)\n",
    "            \n",
    "    #return quicksort(left) + pivotlist + quicksort(right)\n",
    "    \n",
    "#quicksort(a)\n",
    "#print(quicksort(a))"
   ]
  },
  {
   "cell_type": "markdown",
   "metadata": {},
   "source": []
  }
 ],
 "metadata": {
  "kernelspec": {
   "display_name": "Python 3",
   "language": "python",
   "name": "python3"
  },
  "language_info": {
   "codemirror_mode": {
    "name": "ipython",
    "version": 3
   },
   "file_extension": ".py",
   "mimetype": "text/x-python",
   "name": "python",
   "nbconvert_exporter": "python",
   "pygments_lexer": "ipython3",
   "version": "3.7.4"
  }
 },
 "nbformat": 4,
 "nbformat_minor": 2
}
