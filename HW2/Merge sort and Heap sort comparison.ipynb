{
 "cells": [
  {
   "cell_type": "markdown",
   "metadata": {},
   "source": [
    "Heapsort 適用於樹狀的數列,它會隨機以數列裡的元素做分類,如Maxheap 或是 Minheap,也會依照元素李隨機的某項作排列<br>\n",
    "Mergesort 以數列切半再切半,直到每一個數列中只剩一個元素,再做比較,然後再合起來,組回去原本的大數列\n"
   ]
  },
  {
   "cell_type": "code",
   "execution_count": 1,
   "metadata": {},
   "outputs": [
    {
     "data": {
      "text/html": [
       "<img src=\"https://github.com/fengfeng0429/RICKFENG-DSA/blob/master/leetcode/week%205/images/IMG_1173.jpg?raw=true\" width=\"1000\" height=\"1000\"/>"
      ],
      "text/plain": [
       "<IPython.core.display.Image object>"
      ]
     },
     "execution_count": 1,
     "metadata": {},
     "output_type": "execute_result"
    }
   ],
   "source": [
    "from IPython.display import Image\n",
    "from IPython.core.display import HTML\n",
    "Image(url= \"https://github.com/fengfeng0429/RICKFENG-DSA/blob/master/leetcode/week%205/images/IMG_1173.jpg?raw=true\",width = 1000,height = 1000)"
   ]
  },
  {
   "cell_type": "markdown",
   "metadata": {},
   "source": [
    "感想:<br>\n",
    "我覺得這兩種sort演算法的邏輯不難懂<br>\n",
    "但畢竟是本科系 程式碼的部分真的讓我卡到疲累又憤怒<br>\n",
    "尤其是heapsort因為概念上跟quicksort還有mergesort差的有點多<br>\n",
    "mergesort的話還好因為基本上跟quicksort差不多,只是多了要分很多組和再重新組回去<br>\n",
    "整體來說,對我是個非常大的挑戰<br>\n",
    "大到差點就放棄了..."
   ]
  },
  {
   "cell_type": "markdown",
   "metadata": {},
   "source": [
    "比較的參考資料:<br>\n",
    "http://alrightchiu.github.io/SecondRound/comparison-sort-merge-sorthe-bing-pai-xu-fa.html merge sort<br>\n",
    "http://alrightchiu.github.io/SecondRound/comparison-sort-heap-sortdui-ji-pai-xu-fa.html heap sort"
   ]
  }
 ],
 "metadata": {
  "kernelspec": {
   "display_name": "Python 3",
   "language": "python",
   "name": "python3"
  },
  "language_info": {
   "codemirror_mode": {
    "name": "ipython",
    "version": 3
   },
   "file_extension": ".py",
   "mimetype": "text/x-python",
   "name": "python",
   "nbconvert_exporter": "python",
   "pygments_lexer": "ipython3",
   "version": "3.7.4"
  }
 },
 "nbformat": 4,
 "nbformat_minor": 2
}
